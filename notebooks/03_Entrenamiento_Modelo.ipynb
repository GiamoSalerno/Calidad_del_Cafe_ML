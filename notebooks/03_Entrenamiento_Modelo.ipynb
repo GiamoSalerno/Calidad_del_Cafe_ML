{
 "cells": [
  {
   "cell_type": "code",
   "execution_count": 84,
   "metadata": {},
   "outputs": [],
   "source": [
    "import pandas as pd, numpy as np\n",
    "from sklearn.model_selection import train_test_split, GridSearchCV\n",
    "from sklearn.feature_selection import SelectKBest\n",
    "from sklearn.pipeline import Pipeline\n",
    "from sklearn.preprocessing import StandardScaler\n",
    "from sklearn.decomposition import PCA\n",
    "from sklearn.linear_model import LinearRegression, ElasticNet\n",
    "from sklearn.tree import DecisionTreeRegressor\n",
    "from sklearn.neighbors import KNeighborsRegressor\n",
    "from sklearn.svm import SVR"
   ]
  },
  {
   "cell_type": "code",
   "execution_count": 85,
   "metadata": {},
   "outputs": [
    {
     "data": {
      "text/html": [
       "<div>\n",
       "<style scoped>\n",
       "    .dataframe tbody tr th:only-of-type {\n",
       "        vertical-align: middle;\n",
       "    }\n",
       "\n",
       "    .dataframe tbody tr th {\n",
       "        vertical-align: top;\n",
       "    }\n",
       "\n",
       "    .dataframe thead th {\n",
       "        text-align: right;\n",
       "    }\n",
       "</style>\n",
       "<table border=\"1\" class=\"dataframe\">\n",
       "  <thead>\n",
       "    <tr style=\"text-align: right;\">\n",
       "      <th></th>\n",
       "      <th>Country.of.Origin</th>\n",
       "      <th>Variety</th>\n",
       "      <th>Processing.Method</th>\n",
       "      <th>Moisture</th>\n",
       "      <th>Harvest.Year</th>\n",
       "      <th>Color</th>\n",
       "      <th>altitude_mean_meters</th>\n",
       "      <th>Category.One.Defects</th>\n",
       "      <th>Category.Two.Defects</th>\n",
       "      <th>Total.Cup.Points</th>\n",
       "    </tr>\n",
       "  </thead>\n",
       "  <tbody>\n",
       "    <tr>\n",
       "      <th>0</th>\n",
       "      <td>6</td>\n",
       "      <td>0</td>\n",
       "      <td>4</td>\n",
       "      <td>0.10</td>\n",
       "      <td>2017</td>\n",
       "      <td>1</td>\n",
       "      <td>1700.000000</td>\n",
       "      <td>0</td>\n",
       "      <td>2</td>\n",
       "      <td>82.42</td>\n",
       "    </tr>\n",
       "    <tr>\n",
       "      <th>1</th>\n",
       "      <td>11</td>\n",
       "      <td>0</td>\n",
       "      <td>4</td>\n",
       "      <td>0.11</td>\n",
       "      <td>2012</td>\n",
       "      <td>1</td>\n",
       "      <td>900.000000</td>\n",
       "      <td>0</td>\n",
       "      <td>20</td>\n",
       "      <td>68.33</td>\n",
       "    </tr>\n",
       "    <tr>\n",
       "      <th>2</th>\n",
       "      <td>7</td>\n",
       "      <td>2</td>\n",
       "      <td>0</td>\n",
       "      <td>0.10</td>\n",
       "      <td>2013</td>\n",
       "      <td>1</td>\n",
       "      <td>1450.000000</td>\n",
       "      <td>0</td>\n",
       "      <td>5</td>\n",
       "      <td>83.17</td>\n",
       "    </tr>\n",
       "    <tr>\n",
       "      <th>3</th>\n",
       "      <td>0</td>\n",
       "      <td>16</td>\n",
       "      <td>0</td>\n",
       "      <td>0.00</td>\n",
       "      <td>2016</td>\n",
       "      <td>1</td>\n",
       "      <td>1.000000</td>\n",
       "      <td>0</td>\n",
       "      <td>0</td>\n",
       "      <td>82.42</td>\n",
       "    </tr>\n",
       "    <tr>\n",
       "      <th>4</th>\n",
       "      <td>15</td>\n",
       "      <td>15</td>\n",
       "      <td>4</td>\n",
       "      <td>0.10</td>\n",
       "      <td>2016</td>\n",
       "      <td>0</td>\n",
       "      <td>968.000000</td>\n",
       "      <td>0</td>\n",
       "      <td>4</td>\n",
       "      <td>84.08</td>\n",
       "    </tr>\n",
       "    <tr>\n",
       "      <th>...</th>\n",
       "      <td>...</td>\n",
       "      <td>...</td>\n",
       "      <td>...</td>\n",
       "      <td>...</td>\n",
       "      <td>...</td>\n",
       "      <td>...</td>\n",
       "      <td>...</td>\n",
       "      <td>...</td>\n",
       "      <td>...</td>\n",
       "      <td>...</td>\n",
       "    </tr>\n",
       "    <tr>\n",
       "      <th>711</th>\n",
       "      <td>16</td>\n",
       "      <td>0</td>\n",
       "      <td>4</td>\n",
       "      <td>0.12</td>\n",
       "      <td>2014</td>\n",
       "      <td>1</td>\n",
       "      <td>1550.000000</td>\n",
       "      <td>0</td>\n",
       "      <td>4</td>\n",
       "      <td>82.67</td>\n",
       "    </tr>\n",
       "    <tr>\n",
       "      <th>712</th>\n",
       "      <td>6</td>\n",
       "      <td>3</td>\n",
       "      <td>4</td>\n",
       "      <td>0.11</td>\n",
       "      <td>2016</td>\n",
       "      <td>1</td>\n",
       "      <td>340.380128</td>\n",
       "      <td>0</td>\n",
       "      <td>6</td>\n",
       "      <td>84.17</td>\n",
       "    </tr>\n",
       "    <tr>\n",
       "      <th>713</th>\n",
       "      <td>15</td>\n",
       "      <td>15</td>\n",
       "      <td>4</td>\n",
       "      <td>0.09</td>\n",
       "      <td>2014</td>\n",
       "      <td>1</td>\n",
       "      <td>550.000000</td>\n",
       "      <td>0</td>\n",
       "      <td>0</td>\n",
       "      <td>80.92</td>\n",
       "    </tr>\n",
       "    <tr>\n",
       "      <th>714</th>\n",
       "      <td>1</td>\n",
       "      <td>1</td>\n",
       "      <td>4</td>\n",
       "      <td>0.10</td>\n",
       "      <td>2015</td>\n",
       "      <td>1</td>\n",
       "      <td>1100.000000</td>\n",
       "      <td>0</td>\n",
       "      <td>4</td>\n",
       "      <td>83.58</td>\n",
       "    </tr>\n",
       "    <tr>\n",
       "      <th>715</th>\n",
       "      <td>11</td>\n",
       "      <td>15</td>\n",
       "      <td>4</td>\n",
       "      <td>0.16</td>\n",
       "      <td>2012</td>\n",
       "      <td>1</td>\n",
       "      <td>1400.000000</td>\n",
       "      <td>2</td>\n",
       "      <td>4</td>\n",
       "      <td>76.17</td>\n",
       "    </tr>\n",
       "  </tbody>\n",
       "</table>\n",
       "<p>716 rows × 10 columns</p>\n",
       "</div>"
      ],
      "text/plain": [
       "     Country.of.Origin  Variety  Processing.Method  Moisture  Harvest.Year  \\\n",
       "0                    6        0                  4      0.10          2017   \n",
       "1                   11        0                  4      0.11          2012   \n",
       "2                    7        2                  0      0.10          2013   \n",
       "3                    0       16                  0      0.00          2016   \n",
       "4                   15       15                  4      0.10          2016   \n",
       "..                 ...      ...                ...       ...           ...   \n",
       "711                 16        0                  4      0.12          2014   \n",
       "712                  6        3                  4      0.11          2016   \n",
       "713                 15       15                  4      0.09          2014   \n",
       "714                  1        1                  4      0.10          2015   \n",
       "715                 11       15                  4      0.16          2012   \n",
       "\n",
       "     Color  altitude_mean_meters  Category.One.Defects  Category.Two.Defects  \\\n",
       "0        1           1700.000000                     0                     2   \n",
       "1        1            900.000000                     0                    20   \n",
       "2        1           1450.000000                     0                     5   \n",
       "3        1              1.000000                     0                     0   \n",
       "4        0            968.000000                     0                     4   \n",
       "..     ...                   ...                   ...                   ...   \n",
       "711      1           1550.000000                     0                     4   \n",
       "712      1            340.380128                     0                     6   \n",
       "713      1            550.000000                     0                     0   \n",
       "714      1           1100.000000                     0                     4   \n",
       "715      1           1400.000000                     2                     4   \n",
       "\n",
       "     Total.Cup.Points  \n",
       "0               82.42  \n",
       "1               68.33  \n",
       "2               83.17  \n",
       "3               82.42  \n",
       "4               84.08  \n",
       "..                ...  \n",
       "711             82.67  \n",
       "712             84.17  \n",
       "713             80.92  \n",
       "714             83.58  \n",
       "715             76.17  \n",
       "\n",
       "[716 rows x 10 columns]"
      ]
     },
     "execution_count": 85,
     "metadata": {},
     "output_type": "execute_result"
    }
   ],
   "source": [
    "arabica = pd.read_csv('../data/train/arabica_train.csv')\n",
    "arabica.drop(columns=['Unnamed: 0'], inplace=True)\n",
    "arabica"
   ]
  },
  {
   "cell_type": "code",
   "execution_count": 86,
   "metadata": {},
   "outputs": [],
   "source": [
    "X = arabica.drop(columns=['Total.Cup.Points'])\n",
    "y = arabica['Total.Cup.Points']"
   ]
  },
  {
   "cell_type": "code",
   "execution_count": 87,
   "metadata": {},
   "outputs": [],
   "source": [
    "X_train, X_test, y_train, y_test = train_test_split(X, y, test_size=0.2, shuffle=True, random_state= 5)"
   ]
  },
  {
   "cell_type": "code",
   "execution_count": 88,
   "metadata": {},
   "outputs": [
    {
     "name": "stdout",
     "output_type": "stream",
     "text": [
      "(572, 9)\n",
      "(144, 9)\n",
      "(572,)\n",
      "(144,)\n"
     ]
    }
   ],
   "source": [
    "print(X_train.shape)\n",
    "print(X_test.shape)\n",
    "print(y_train.shape)\n",
    "print(y_test.shape)"
   ]
  },
  {
   "cell_type": "code",
   "execution_count": 92,
   "metadata": {},
   "outputs": [],
   "source": [
    "pipe = Pipeline(steps=[(\"scaler\", StandardScaler()),\n",
    "                       ('pca', PCA(8)),\n",
    "                       ('regressor', LinearRegression())])\n",
    "\n",
    "linear_params = {'scaler' : [StandardScaler()],\n",
    "                 'regressor': [LinearRegression()]}\n",
    "\n",
    "en_params = {'scaler' : [StandardScaler()],\n",
    "             'regressor': [ElasticNet()]}\n",
    "\n",
    "dt_params = {'scaler' : [StandardScaler(), None],\n",
    "             'regressor': [DecisionTreeRegressor()]}\n",
    "\n",
    "knn_params = {'scaler' : [StandardScaler()],\n",
    "              'regressor': [KNeighborsRegressor()],\n",
    "              'regressor__n_neighbors': [3,9,15]}\n",
    "\n",
    "svr_params = {'scaler' : [StandardScaler()],\n",
    "              'regressor': [SVR()],\n",
    "              'regressor__C': [1]}"
   ]
  },
  {
   "cell_type": "code",
   "execution_count": 93,
   "metadata": {},
   "outputs": [],
   "source": [
    "search_space = [linear_params, en_params, dt_params, knn_params, knn_params, svr_params]\n",
    "\n",
    "reg = GridSearchCV(estimator = pipe,\n",
    "                   param_grid = search_space,\n",
    "                   cv=3,\n",
    "                   scoring='r2',\n",
    "                   n_jobs=-1)"
   ]
  },
  {
   "cell_type": "code",
   "execution_count": 94,
   "metadata": {},
   "outputs": [
    {
     "data": {
      "text/plain": [
       "GridSearchCV(cv=3,\n",
       "             estimator=Pipeline(steps=[('scaler', StandardScaler()),\n",
       "                                       ('pca', PCA(n_components=8)),\n",
       "                                       ('regressor', LinearRegression())]),\n",
       "             n_jobs=-1,\n",
       "             param_grid=[{'regressor': [LinearRegression()],\n",
       "                          'scaler': [StandardScaler()]},\n",
       "                         {'regressor': [ElasticNet()],\n",
       "                          'scaler': [StandardScaler()]},\n",
       "                         {'regressor': [DecisionTreeRegressor()],\n",
       "                          'scaler': [StandardScaler(), None]},\n",
       "                         {'regressor': [KNeighborsRegressor()],\n",
       "                          'regressor__n_neighbors': [3, 9, 15],\n",
       "                          'scaler': [StandardScaler()]},\n",
       "                         {'regressor': [KNeighborsRegressor()],\n",
       "                          'regressor__n_neighbors': [3, 9, 15],\n",
       "                          'scaler': [StandardScaler()]},\n",
       "                         {'regressor': [SVR(C=1)], 'regressor__C': [1],\n",
       "                          'scaler': [StandardScaler()]}],\n",
       "             scoring='r2')"
      ]
     },
     "execution_count": 94,
     "metadata": {},
     "output_type": "execute_result"
    }
   ],
   "source": [
    "reg.fit(X_train, y_train)"
   ]
  },
  {
   "cell_type": "code",
   "execution_count": 78,
   "metadata": {},
   "outputs": [
    {
     "data": {
      "text/plain": [
       "Pipeline(steps=[('scaler', StandardScaler()), ('pca', PCA(n_components=8)),\n",
       "                ('regressor', SVR(C=1))])"
      ]
     },
     "execution_count": 78,
     "metadata": {},
     "output_type": "execute_result"
    }
   ],
   "source": [
    "reg.best_estimator_\n"
   ]
  },
  {
   "cell_type": "code",
   "execution_count": 79,
   "metadata": {},
   "outputs": [
    {
     "data": {
      "text/plain": [
       "{'regressor': SVR(C=1), 'regressor__C': 1, 'scaler': StandardScaler()}"
      ]
     },
     "execution_count": 79,
     "metadata": {},
     "output_type": "execute_result"
    }
   ],
   "source": [
    "reg.best_params_"
   ]
  },
  {
   "cell_type": "code",
   "execution_count": 80,
   "metadata": {},
   "outputs": [],
   "source": [
    "best_model = reg.best_estimator_"
   ]
  },
  {
   "cell_type": "code",
   "execution_count": 81,
   "metadata": {},
   "outputs": [],
   "source": [
    "predictions = best_model.predict(X_test)"
   ]
  },
  {
   "cell_type": "code",
   "execution_count": 95,
   "metadata": {},
   "outputs": [
    {
     "data": {
      "text/plain": [
       "Index(['Country.of.Origin', 'Variety', 'Processing.Method', 'Moisture',\n",
       "       'Harvest.Year', 'Color', 'altitude_mean_meters', 'Category.One.Defects',\n",
       "       'Category.Two.Defects'],\n",
       "      dtype='object')"
      ]
     },
     "execution_count": 95,
     "metadata": {},
     "output_type": "execute_result"
    }
   ],
   "source": [
    "X.columns"
   ]
  },
  {
   "cell_type": "code",
   "execution_count": 60,
   "metadata": {},
   "outputs": [],
   "source": [
    "from sklearn import metrics"
   ]
  },
  {
   "cell_type": "code",
   "execution_count": 61,
   "metadata": {},
   "outputs": [],
   "source": [
    "def train_test_evaluate(model_name, model, X_train, y_train, X_test, y_test):  \n",
    "\n",
    "    model.fit(X_train, y_train)\n",
    "    \n",
    "    y_pred= model.predict(X_test)\n",
    "    \n",
    "    mae = metrics.mean_absolute_error(y_test, y_pred)\n",
    "    mse = metrics.mean_squared_error(y_test, y_pred)\n",
    "    rmse = np.sqrt(metrics.mean_squared_error(y_test, y_pred))\n",
    "    r2 = metrics.r2_score(y_test, y_pred)\n",
    "    y_test_mean= y_test.mean()\n",
    "    mae_ratio= mae/y_test_mean\n",
    "    rmse_ratio= rmse/y_test_mean\n",
    "    \n",
    "    result_df = pd.DataFrame(\n",
    "        data=[[model_name, mae, mse, rmse, r2, mae_ratio, rmse_ratio]], \n",
    "        columns=[\"Model\", 'MAE', 'MSE', 'RMSE', 'R2 Score', \"MAE Ratio\", \"RMSE Ratio\"])\n",
    "    return result_df"
   ]
  },
  {
   "cell_type": "code",
   "execution_count": 82,
   "metadata": {},
   "outputs": [
    {
     "data": {
      "text/html": [
       "<div>\n",
       "<style scoped>\n",
       "    .dataframe tbody tr th:only-of-type {\n",
       "        vertical-align: middle;\n",
       "    }\n",
       "\n",
       "    .dataframe tbody tr th {\n",
       "        vertical-align: top;\n",
       "    }\n",
       "\n",
       "    .dataframe thead th {\n",
       "        text-align: right;\n",
       "    }\n",
       "</style>\n",
       "<table border=\"1\" class=\"dataframe\">\n",
       "  <thead>\n",
       "    <tr style=\"text-align: right;\">\n",
       "      <th></th>\n",
       "      <th>Model</th>\n",
       "      <th>MAE</th>\n",
       "      <th>MSE</th>\n",
       "      <th>RMSE</th>\n",
       "      <th>R2 Score</th>\n",
       "      <th>MAE Ratio</th>\n",
       "      <th>RMSE Ratio</th>\n",
       "    </tr>\n",
       "  </thead>\n",
       "  <tbody>\n",
       "    <tr>\n",
       "      <th>0</th>\n",
       "      <td>pipeline</td>\n",
       "      <td>1.608917</td>\n",
       "      <td>5.403098</td>\n",
       "      <td>2.324457</td>\n",
       "      <td>-0.038751</td>\n",
       "      <td>0.019557</td>\n",
       "      <td>0.028255</td>\n",
       "    </tr>\n",
       "  </tbody>\n",
       "</table>\n",
       "</div>"
      ],
      "text/plain": [
       "      Model       MAE       MSE      RMSE  R2 Score  MAE Ratio  RMSE Ratio\n",
       "0  pipeline  1.608917  5.403098  2.324457 -0.038751   0.019557    0.028255"
      ]
     },
     "execution_count": 82,
     "metadata": {},
     "output_type": "execute_result"
    }
   ],
   "source": [
    "train_test_evaluate(\"pipeline\", pipe, X_train, y_train, X_test, y_test)"
   ]
  }
 ],
 "metadata": {
  "kernelspec": {
   "display_name": "Python 3",
   "language": "python",
   "name": "python3"
  },
  "language_info": {
   "codemirror_mode": {
    "name": "ipython",
    "version": 3
   },
   "file_extension": ".py",
   "mimetype": "text/x-python",
   "name": "python",
   "nbconvert_exporter": "python",
   "pygments_lexer": "ipython3",
   "version": "3.7.4"
  },
  "orig_nbformat": 4
 },
 "nbformat": 4,
 "nbformat_minor": 2
}
