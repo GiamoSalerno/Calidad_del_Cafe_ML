{
 "cells": [
  {
   "attachments": {},
   "cell_type": "markdown",
   "metadata": {},
   "source": [
    "## Librerías Utilizadas"
   ]
  },
  {
   "cell_type": "code",
   "execution_count": 1,
   "metadata": {},
   "outputs": [],
   "source": [
    "import matplotlib.pyplot as plt\n",
    "import pandas as pd\n",
    "import seaborn as sns\n",
    "from sklearn import metrics\n",
    "from sklearn.decomposition import PCA\n",
    "from sklearn.ensemble import RandomForestClassifier, GradientBoostingClassifier\n",
    "from sklearn.feature_selection import SelectKBest\n",
    "from sklearn.linear_model import LogisticRegression\n",
    "from sklearn.model_selection import train_test_split, GridSearchCV\n",
    "from sklearn.neighbors import KNeighborsClassifier\n",
    "from sklearn.pipeline import Pipeline\n",
    "from sklearn.preprocessing import StandardScaler\n",
    "from sklearn.svm import SVC"
   ]
  },
  {
   "attachments": {},
   "cell_type": "markdown",
   "metadata": {},
   "source": [
    "# Iteraciones de modelo"
   ]
  },
  {
   "cell_type": "code",
   "execution_count": 2,
   "metadata": {},
   "outputs": [
    {
     "data": {
      "text/html": [
       "<div>\n",
       "<style scoped>\n",
       "    .dataframe tbody tr th:only-of-type {\n",
       "        vertical-align: middle;\n",
       "    }\n",
       "\n",
       "    .dataframe tbody tr th {\n",
       "        vertical-align: top;\n",
       "    }\n",
       "\n",
       "    .dataframe thead th {\n",
       "        text-align: right;\n",
       "    }\n",
       "</style>\n",
       "<table border=\"1\" class=\"dataframe\">\n",
       "  <thead>\n",
       "    <tr style=\"text-align: right;\">\n",
       "      <th></th>\n",
       "      <th>Country.of.Origin</th>\n",
       "      <th>Variety</th>\n",
       "      <th>Processing.Method</th>\n",
       "      <th>Moisture</th>\n",
       "      <th>Harvest.Year</th>\n",
       "      <th>Color</th>\n",
       "      <th>altitude_mean_meters</th>\n",
       "      <th>Category.One.Defects</th>\n",
       "      <th>Category.Two.Defects</th>\n",
       "      <th>Calidad</th>\n",
       "    </tr>\n",
       "  </thead>\n",
       "  <tbody>\n",
       "    <tr>\n",
       "      <th>0</th>\n",
       "      <td>5</td>\n",
       "      <td>7</td>\n",
       "      <td>4</td>\n",
       "      <td>0.12</td>\n",
       "      <td>2014</td>\n",
       "      <td>1</td>\n",
       "      <td>2075.0</td>\n",
       "      <td>0</td>\n",
       "      <td>1</td>\n",
       "      <td>2</td>\n",
       "    </tr>\n",
       "    <tr>\n",
       "      <th>1</th>\n",
       "      <td>5</td>\n",
       "      <td>7</td>\n",
       "      <td>4</td>\n",
       "      <td>0.12</td>\n",
       "      <td>2014</td>\n",
       "      <td>1</td>\n",
       "      <td>2075.0</td>\n",
       "      <td>0</td>\n",
       "      <td>2</td>\n",
       "      <td>2</td>\n",
       "    </tr>\n",
       "    <tr>\n",
       "      <th>2</th>\n",
       "      <td>5</td>\n",
       "      <td>7</td>\n",
       "      <td>0</td>\n",
       "      <td>0.10</td>\n",
       "      <td>2014</td>\n",
       "      <td>1</td>\n",
       "      <td>1822.5</td>\n",
       "      <td>0</td>\n",
       "      <td>4</td>\n",
       "      <td>2</td>\n",
       "    </tr>\n",
       "    <tr>\n",
       "      <th>3</th>\n",
       "      <td>1</td>\n",
       "      <td>1</td>\n",
       "      <td>4</td>\n",
       "      <td>0.10</td>\n",
       "      <td>2015</td>\n",
       "      <td>1</td>\n",
       "      <td>1450.0</td>\n",
       "      <td>0</td>\n",
       "      <td>0</td>\n",
       "      <td>2</td>\n",
       "    </tr>\n",
       "    <tr>\n",
       "      <th>4</th>\n",
       "      <td>14</td>\n",
       "      <td>7</td>\n",
       "      <td>4</td>\n",
       "      <td>0.00</td>\n",
       "      <td>2014</td>\n",
       "      <td>1</td>\n",
       "      <td>2019.0</td>\n",
       "      <td>0</td>\n",
       "      <td>0</td>\n",
       "      <td>2</td>\n",
       "    </tr>\n",
       "    <tr>\n",
       "      <th>...</th>\n",
       "      <td>...</td>\n",
       "      <td>...</td>\n",
       "      <td>...</td>\n",
       "      <td>...</td>\n",
       "      <td>...</td>\n",
       "      <td>...</td>\n",
       "      <td>...</td>\n",
       "      <td>...</td>\n",
       "      <td>...</td>\n",
       "      <td>...</td>\n",
       "    </tr>\n",
       "    <tr>\n",
       "      <th>3080</th>\n",
       "      <td>18</td>\n",
       "      <td>11</td>\n",
       "      <td>4</td>\n",
       "      <td>0.12</td>\n",
       "      <td>2013</td>\n",
       "      <td>1</td>\n",
       "      <td>1950.0</td>\n",
       "      <td>0</td>\n",
       "      <td>1</td>\n",
       "      <td>2</td>\n",
       "    </tr>\n",
       "    <tr>\n",
       "      <th>3081</th>\n",
       "      <td>9</td>\n",
       "      <td>13</td>\n",
       "      <td>4</td>\n",
       "      <td>0.00</td>\n",
       "      <td>2012</td>\n",
       "      <td>1</td>\n",
       "      <td>1200.0</td>\n",
       "      <td>0</td>\n",
       "      <td>6</td>\n",
       "      <td>2</td>\n",
       "    </tr>\n",
       "    <tr>\n",
       "      <th>3082</th>\n",
       "      <td>11</td>\n",
       "      <td>7</td>\n",
       "      <td>4</td>\n",
       "      <td>0.13</td>\n",
       "      <td>2012</td>\n",
       "      <td>1</td>\n",
       "      <td>1320.0</td>\n",
       "      <td>0</td>\n",
       "      <td>0</td>\n",
       "      <td>2</td>\n",
       "    </tr>\n",
       "    <tr>\n",
       "      <th>3083</th>\n",
       "      <td>18</td>\n",
       "      <td>11</td>\n",
       "      <td>4</td>\n",
       "      <td>0.12</td>\n",
       "      <td>2013</td>\n",
       "      <td>1</td>\n",
       "      <td>1600.0</td>\n",
       "      <td>0</td>\n",
       "      <td>1</td>\n",
       "      <td>2</td>\n",
       "    </tr>\n",
       "    <tr>\n",
       "      <th>3084</th>\n",
       "      <td>0</td>\n",
       "      <td>0</td>\n",
       "      <td>0</td>\n",
       "      <td>0.12</td>\n",
       "      <td>2011</td>\n",
       "      <td>1</td>\n",
       "      <td>1250.0</td>\n",
       "      <td>0</td>\n",
       "      <td>2</td>\n",
       "      <td>2</td>\n",
       "    </tr>\n",
       "  </tbody>\n",
       "</table>\n",
       "<p>3085 rows × 10 columns</p>\n",
       "</div>"
      ],
      "text/plain": [
       "      Country.of.Origin  Variety  Processing.Method  Moisture  Harvest.Year  \\\n",
       "0                     5        7                  4      0.12          2014   \n",
       "1                     5        7                  4      0.12          2014   \n",
       "2                     5        7                  0      0.10          2014   \n",
       "3                     1        1                  4      0.10          2015   \n",
       "4                    14        7                  4      0.00          2014   \n",
       "...                 ...      ...                ...       ...           ...   \n",
       "3080                 18       11                  4      0.12          2013   \n",
       "3081                  9       13                  4      0.00          2012   \n",
       "3082                 11        7                  4      0.13          2012   \n",
       "3083                 18       11                  4      0.12          2013   \n",
       "3084                  0        0                  0      0.12          2011   \n",
       "\n",
       "      Color  altitude_mean_meters  Category.One.Defects  Category.Two.Defects  \\\n",
       "0         1                2075.0                     0                     1   \n",
       "1         1                2075.0                     0                     2   \n",
       "2         1                1822.5                     0                     4   \n",
       "3         1                1450.0                     0                     0   \n",
       "4         1                2019.0                     0                     0   \n",
       "...     ...                   ...                   ...                   ...   \n",
       "3080      1                1950.0                     0                     1   \n",
       "3081      1                1200.0                     0                     6   \n",
       "3082      1                1320.0                     0                     0   \n",
       "3083      1                1600.0                     0                     1   \n",
       "3084      1                1250.0                     0                     2   \n",
       "\n",
       "      Calidad  \n",
       "0           2  \n",
       "1           2  \n",
       "2           2  \n",
       "3           2  \n",
       "4           2  \n",
       "...       ...  \n",
       "3080        2  \n",
       "3081        2  \n",
       "3082        2  \n",
       "3083        2  \n",
       "3084        2  \n",
       "\n",
       "[3085 rows x 10 columns]"
      ]
     },
     "execution_count": 2,
     "metadata": {},
     "output_type": "execute_result"
    }
   ],
   "source": [
    "arabica = pd.read_csv('../data/processed/arabica_processed.csv')\n",
    "arabica"
   ]
  },
  {
   "cell_type": "code",
   "execution_count": 3,
   "metadata": {},
   "outputs": [
    {
     "name": "stdout",
     "output_type": "stream",
     "text": [
      "(2313, 9)\n",
      "(772, 9)\n",
      "(2313,)\n",
      "(772,)\n"
     ]
    }
   ],
   "source": [
    "X = arabica.drop(columns='Calidad')\n",
    "y = arabica.Calidad\n",
    "\n",
    "Xtrain, Xtest, ytrain, ytest = train_test_split(X, y, shuffle=True, random_state=5)\n",
    "\n",
    "print(Xtrain.shape)\n",
    "print(Xtest.shape)\n",
    "print(ytrain.shape)\n",
    "print(ytest.shape)"
   ]
  },
  {
   "cell_type": "code",
   "execution_count": 4,
   "metadata": {},
   "outputs": [
    {
     "name": "stderr",
     "output_type": "stream",
     "text": [
      "c:\\Users\\ciruz\\AppData\\Local\\Programs\\Python\\Python37\\lib\\site-packages\\sklearn\\model_selection\\_validation.py:372: FitFailedWarning: \n",
      "6 fits failed out of a total of 288.\n",
      "The score on these train-test partitions for these parameters will be set to nan.\n",
      "If these failures are not expected, you can try to debug them by setting error_score='raise'.\n",
      "\n",
      "Below are more details about the failures:\n",
      "--------------------------------------------------------------------------------\n",
      "6 fits failed with the following error:\n",
      "Traceback (most recent call last):\n",
      "  File \"c:\\Users\\ciruz\\AppData\\Local\\Programs\\Python\\Python37\\lib\\site-packages\\sklearn\\model_selection\\_validation.py\", line 680, in _fit_and_score\n",
      "    estimator.fit(X_train, y_train, **fit_params)\n",
      "  File \"c:\\Users\\ciruz\\AppData\\Local\\Programs\\Python\\Python37\\lib\\site-packages\\sklearn\\pipeline.py\", line 390, in fit\n",
      "    Xt = self._fit(X, y, **fit_params_steps)\n",
      "  File \"c:\\Users\\ciruz\\AppData\\Local\\Programs\\Python\\Python37\\lib\\site-packages\\sklearn\\pipeline.py\", line 355, in _fit\n",
      "    **fit_params_steps[name],\n",
      "  File \"c:\\Users\\ciruz\\AppData\\Local\\Programs\\Python\\Python37\\lib\\site-packages\\joblib\\memory.py\", line 349, in __call__\n",
      "    return self.func(*args, **kwargs)\n",
      "  File \"c:\\Users\\ciruz\\AppData\\Local\\Programs\\Python\\Python37\\lib\\site-packages\\sklearn\\pipeline.py\", line 893, in _fit_transform_one\n",
      "    res = transformer.fit_transform(X, y, **fit_params)\n",
      "  File \"c:\\Users\\ciruz\\AppData\\Local\\Programs\\Python\\Python37\\lib\\site-packages\\sklearn\\decomposition\\_pca.py\", line 407, in fit_transform\n",
      "    U, S, Vt = self._fit(X)\n",
      "  File \"c:\\Users\\ciruz\\AppData\\Local\\Programs\\Python\\Python37\\lib\\site-packages\\sklearn\\decomposition\\_pca.py\", line 457, in _fit\n",
      "    return self._fit_full(X, n_components)\n",
      "  File \"c:\\Users\\ciruz\\AppData\\Local\\Programs\\Python\\Python37\\lib\\site-packages\\sklearn\\decomposition\\_pca.py\", line 478, in _fit_full\n",
      "    \"svd_solver='full'\" % (n_components, min(n_samples, n_features))\n",
      "ValueError: n_components=10 must be between 0 and min(n_samples, n_features)=9 with svd_solver='full'\n",
      "\n",
      "  warnings.warn(some_fits_failed_message, FitFailedWarning)\n",
      "c:\\Users\\ciruz\\AppData\\Local\\Programs\\Python\\Python37\\lib\\site-packages\\sklearn\\model_selection\\_search.py:972: UserWarning: One or more of the test scores are non-finite: [0.5771725  0.57544315        nan 0.57587549 0.57803718        nan\n",
      " 0.66666667 0.64677907 0.65672287 0.65801989 0.65412884 0.65110246\n",
      " 0.67099006 0.66364029 0.64850843 0.6792045  0.65412884 0.65499351\n",
      " 0.67099006 0.65629053 0.66104626 0.67877216 0.67531345 0.68050151\n",
      " 0.77172503 0.77518374 0.79031561 0.76783398 0.78901859 0.77258971\n",
      " 0.78512754 0.78642456 0.78988327 0.78858625 0.7924773  0.78728923\n",
      " 0.7924773  0.78858625 0.80760917 0.78339818 0.8002594  0.79680069\n",
      " 0.87505404 0.88067445 0.88067445 0.88715953 0.89840035 0.88586252\n",
      " 0.87505404 0.87591872 0.88110679 0.88975357 0.89061824 0.8945093\n",
      " 0.88024211 0.88153913 0.8945093  0.8945093  0.89969736 0.9022914\n",
      " 0.9589278  0.96541288 0.96584522 0.96541288 0.96843926 0.96843926\n",
      " 0.96195417 0.96281885 0.96454821 0.96022482 0.96108949 0.96627756\n",
      " 0.95849546 0.96195417 0.96065716 0.96108949 0.96541288 0.96281885\n",
      " 0.82965845 0.83052313 0.82922611 0.79809771 0.78988327 0.78772157\n",
      " 0.76264591 0.75572849 0.74967575 0.61219196 0.61305664 0.61175962\n",
      " 0.72200605 0.72330307 0.74275832 0.80371812 0.81063554 0.8257674 ]\n",
      "  category=UserWarning,\n"
     ]
    },
    {
     "data": {
      "text/plain": [
       "GridSearchCV(cv=3,\n",
       "             estimator=Pipeline(steps=[('scaler', StandardScaler()),\n",
       "                                       ('selectkbest', SelectKBest()),\n",
       "                                       ('pca', PCA()),\n",
       "                                       ('classifier',\n",
       "                                        RandomForestClassifier())]),\n",
       "             n_jobs=-1,\n",
       "             param_grid=[{'classifier': [LogisticRegression(solver='liblinear')],\n",
       "                          'classifier__penalty': ['l1', 'l2'],\n",
       "                          'pca__n_components': [8, 9, 10],\n",
       "                          'selectkbest__k': [9]},\n",
       "                         {'classifier': [RandomForestCla...\n",
       "                          'classifier__max_features': [2, 3, 4],\n",
       "                          'pca__n_components': [7, 8, 9],\n",
       "                          'scaler': [StandardScaler(), None],\n",
       "                          'selectkbest__k': [9]},\n",
       "                         {'classifier': [KNeighborsClassifier()],\n",
       "                          'classifier__n_neighbors': [5, 7, 12],\n",
       "                          'pca__n_components': [7, 8, 9],\n",
       "                          'selectkbest__k': [9]},\n",
       "                         {'classifier': [SVC()], 'classifier__C': [0.1, 1, 10],\n",
       "                          'pca__n_components': [7, 8, 9],\n",
       "                          'selectkbest__k': [9]}],\n",
       "             scoring='accuracy')"
      ]
     },
     "execution_count": 4,
     "metadata": {},
     "output_type": "execute_result"
    }
   ],
   "source": [
    "pipe = Pipeline(steps=[(\"scaler\", StandardScaler()),\n",
    "                       (\"selectkbest\", SelectKBest()),\n",
    "                       (\"pca\", PCA()),\n",
    "                       ('classifier', RandomForestClassifier())])\n",
    "\n",
    "logistic_params = {'selectkbest__k' : [9],\n",
    "                   'pca__n_components': [8,9,10],\n",
    "                   'classifier': [LogisticRegression(solver='liblinear')],\n",
    "                   'classifier__penalty': ['l1','l2']}\n",
    "\n",
    "rf_params = {'scaler' : [StandardScaler(), None],\n",
    "             'selectkbest__k' : [9],\n",
    "             'pca__n_components': [7,8,9],\n",
    "             'classifier': [RandomForestClassifier()],\n",
    "             'classifier__max_features': [2,3,4],\n",
    "             'classifier__max_depth': [3,5,7]}\n",
    "\n",
    "gb_params = {'scaler' : [StandardScaler(), None],\n",
    "             'selectkbest__k' : [9],\n",
    "             'pca__n_components': [7,8,9],\n",
    "             'classifier': [GradientBoostingClassifier()],\n",
    "             'classifier__max_features': [2,3,4],\n",
    "             'classifier__max_depth': [7]}\n",
    "\n",
    "knn_params = {'selectkbest__k' : [9],\n",
    "              'pca__n_components': [7,8,9],\n",
    "              'classifier': [KNeighborsClassifier()],\n",
    "              'classifier__n_neighbors': [5,7,12]}\n",
    "\n",
    "svm_params = {'selectkbest__k' : [9],\n",
    "              'pca__n_components': [7,8,9],\n",
    "              'classifier': [SVC()],\n",
    "              'classifier__C': [0.1, 1, 10]}\n",
    "\n",
    "search_space = [logistic_params, rf_params, gb_params, knn_params, svm_params]\n",
    "\n",
    "clf = GridSearchCV(estimator = pipe, param_grid = search_space, cv=3, scoring=\"accuracy\", n_jobs=-1)\n",
    "\n",
    "clf.fit(Xtrain, ytrain)"
   ]
  },
  {
   "cell_type": "code",
   "execution_count": 5,
   "metadata": {},
   "outputs": [
    {
     "name": "stdout",
     "output_type": "stream",
     "text": [
      "Mejor modelo: Pipeline(steps=[('scaler', StandardScaler()), ('selectkbest', SelectKBest(k=9)),\n",
      "                ('pca', PCA(n_components=9)),\n",
      "                ('classifier',\n",
      "                 GradientBoostingClassifier(max_depth=7, max_features=2))])\n",
      "Mejores parámetros: {'classifier': GradientBoostingClassifier(max_depth=7, max_features=2), 'classifier__max_depth': 7, 'classifier__max_features': 2, 'pca__n_components': 9, 'scaler': StandardScaler(), 'selectkbest__k': 9}\n"
     ]
    }
   ],
   "source": [
    "modelof = clf.best_estimator_\n",
    "print('Mejor modelo:', modelof)\n",
    "print('Mejores parámetros:', clf.best_params_)"
   ]
  },
  {
   "cell_type": "code",
   "execution_count": 6,
   "metadata": {},
   "outputs": [
    {
     "name": "stdout",
     "output_type": "stream",
     "text": [
      "Accuracy: 0.9740932642487047\n",
      "Precision: [1.         0.94680851 1.        ]\n",
      "Recall: [0.92344498 1.         0.98067633]\n"
     ]
    }
   ],
   "source": [
    "pred = modelof.predict(Xtest)\n",
    "print('Accuracy:', metrics.accuracy_score(pred, ytest))\n",
    "print('Precision:', metrics.precision_score(pred, ytest, average=None))\n",
    "print('Recall:', metrics.recall_score(pred, ytest, average=None))"
   ]
  },
  {
   "cell_type": "code",
   "execution_count": 7,
   "metadata": {},
   "outputs": [
    {
     "data": {
      "image/png": "[encoded data removed]",
      "text/plain": [
       "<Figure size 800x600 with 2 Axes>"
      ]
     },
     "metadata": {},
     "output_type": "display_data"
    }
   ],
   "source": [
    "confusion = metrics.confusion_matrix(pred, ytest)\n",
    "calidad = ['Estándar', 'Bueno', 'Premium']\n",
    "plt.figure(figsize=(8,6))\n",
    "sns.heatmap(confusion, annot=True, cmap='Blues', fmt='d', xticklabels= calidad, yticklabels= calidad)\n",
    "plt.title('Predicciones del Modelo')\n",
    "plt.xlabel('Clase Predicha')\n",
    "plt.ylabel('Clase Real');"
   ]
  },
  {
   "attachments": {},
   "cell_type": "markdown",
   "metadata": {},
   "source": [
    "Si bien el pipeline utilizados da buenos resultados, probamos también con otros para ver si se pueden mejorar las predicciones"
   ]
  },
  {
   "cell_type": "code",
   "execution_count": 11,
   "metadata": {},
   "outputs": [
    {
     "name": "stdout",
     "output_type": "stream",
     "text": [
      "Accuracy: 0.9740932642487047\n",
      "Precision: [1.         0.94680851 1.        ]\n",
      "Recall: [0.92344498 1.         0.98067633]\n"
     ]
    }
   ],
   "source": [
    "# Únicamente Gradient Booster:\n",
    "\n",
    "gb = GradientBoostingClassifier()\n",
    "\n",
    "param_grid = {'n_estimators': [100, 200, 300],\n",
    "              'max_features': [2, 4, 6],\n",
    "              'max_depth': [5, 7, 9]}\n",
    "\n",
    "gbgs = GridSearchCV(estimator= gb, param_grid= param_grid, cv=5, scoring='accuracy', n_jobs= -1)\n",
    "gbgs.fit(Xtrain, ytrain)\n",
    "pred = modelof.predict(Xtest)\n",
    "\n",
    "print('Accuracy:', metrics.accuracy_score(pred, ytest))\n",
    "print('Precision:', metrics.precision_score(pred, ytest, average=None))\n",
    "print('Recall:', metrics.recall_score(pred, ytest, average=None))"
   ]
  },
  {
   "cell_type": "code",
   "execution_count": 12,
   "metadata": {},
   "outputs": [
    {
     "name": "stdout",
     "output_type": "stream",
     "text": [
      "Accuracy: 0.9740932642487047\n",
      "Precision: [1.         0.94680851 1.        ]\n",
      "Recall: [0.92344498 1.         0.98067633]\n"
     ]
    }
   ],
   "source": [
    "# Únicamente random forest:\n",
    "\n",
    "rf = RandomForestClassifier()\n",
    "\n",
    "rf_params = {'max_features': [2,3,4],\n",
    "             'max_depth': [3,5,7],\n",
    "             'min_samples_leaf' : [2,4,6],\n",
    "             'max_leaf_nodes' : [2,4,6]}\n",
    "\n",
    "rfgs = GridSearchCV(estimator= rf, param_grid= rf_params, cv=5, scoring='accuracy', n_jobs= -1)\n",
    "gbgs.fit(Xtrain, ytrain)\n",
    "pred = modelof.predict(Xtest)\n",
    "\n",
    "print('Accuracy:', metrics.accuracy_score(pred, ytest))\n",
    "print('Precision:', metrics.precision_score(pred, ytest, average=None))\n",
    "print('Recall:', metrics.recall_score(pred, ytest, average=None))"
   ]
  },
  {
   "cell_type": "code",
   "execution_count": 18,
   "metadata": {},
   "outputs": [
    {
     "name": "stdout",
     "output_type": "stream",
     "text": [
      "Accuracy: 0.783678756476684\n",
      "Precision: [0.66321244 0.86170213 0.75369458]\n",
      "Recall: [0.76190476 0.738041   0.92727273]\n"
     ]
    }
   ],
   "source": [
    "from sklearn.ensemble import AdaBoostClassifier\n",
    "from sklearn.tree import DecisionTreeClassifier\n",
    "\n",
    "base_classifier = DecisionTreeClassifier()\n",
    "\n",
    "ada_boost = AdaBoostClassifier(base_estimator=base_classifier)\n",
    "\n",
    "ada_params = {'n_estimators': [50, 100, 200],\n",
    "              'learning_rate': [0.1, 0.5, 1.0],\n",
    "              'base_estimator__max_features': [2, 3, 4],\n",
    "              'base_estimator__max_depth': [3, 5, 7],\n",
    "              'base_estimator__min_samples_leaf': [2, 4, 6],\n",
    "              'base_estimator__max_leaf_nodes': [6, 7, 8]}\n",
    "\n",
    "ada_gs = GridSearchCV(estimator=ada_boost, param_grid=ada_params, cv=5, scoring='accuracy', n_jobs=-1)\n",
    "ada_gs.fit(Xtrain, ytrain)\n",
    "pred = ada_gs.predict(Xtest)\n",
    "\n",
    "print('Accuracy:', metrics.accuracy_score(pred, ytest))\n",
    "print('Precision:', metrics.precision_score(pred, ytest, average=None))\n",
    "print('Recall:', metrics.recall_score(pred, ytest, average=None))\n"
   ]
  },
  {
   "cell_type": "code",
   "execution_count": 15,
   "metadata": {},
   "outputs": [
    {
     "name": "stdout",
     "output_type": "stream",
     "text": [
      "Accuracy: 0.5699481865284974\n",
      "Precision: [0.41450777 0.79787234 0.2955665 ]\n",
      "Recall: [0.58394161 0.55555556 0.63157895]\n"
     ]
    }
   ],
   "source": [
    "logistic_regression = LogisticRegression()\n",
    "\n",
    "logistic_params = {'penalty': ['l1', 'l2'],\n",
    "                   'C': [0.1, 1.0, 10.0],\n",
    "                   'solver': ['liblinear', 'saga'],\n",
    "                   'max_iter': [100, 500, 1000]}\n",
    "\n",
    "logistic_gs = GridSearchCV(estimator=logistic_regression, param_grid=logistic_params, cv=5, scoring='accuracy', n_jobs=-1)\n",
    "logistic_gs.fit(Xtrain, ytrain)\n",
    "pred = logistic_gs.predict(Xtest)\n",
    "\n",
    "print('Accuracy:', metrics.accuracy_score(pred, ytest))\n",
    "print('Precision:', metrics.precision_score(pred, ytest, average=None))\n",
    "print('Recall:', metrics.recall_score(pred, ytest, average=None))"
   ]
  }
 ],
 "metadata": {
  "kernelspec": {
   "display_name": "Python 3",
   "language": "python",
   "name": "python3"
  },
  "language_info": {
   "codemirror_mode": {
    "name": "ipython",
    "version": 3
   },
   "file_extension": ".py",
   "mimetype": "text/x-python",
   "name": "python",
   "nbconvert_exporter": "python",
   "pygments_lexer": "ipython3",
   "version": "3.7.4"
  },
  "orig_nbformat": 4
 },
 "nbformat": 4,
 "nbformat_minor": 2
}
